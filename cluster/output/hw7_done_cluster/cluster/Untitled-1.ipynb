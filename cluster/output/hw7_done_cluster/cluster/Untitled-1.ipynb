{
 "cells": [
  {
   "cell_type": "code",
   "execution_count": 1,
   "metadata": {},
   "outputs": [
    {
     "name": "stdout",
     "output_type": "stream",
     "text": [
      "Combined text files into: combined_text_files.txt\n",
      "Combined code files into: combined_code_files.txt\n"
     ]
    }
   ],
   "source": [
    "import os\n",
    "\n",
    "def combine_text_files(directory, output_file):\n",
    "    \"\"\"Combines all .txt files in a directory into a single file,\n",
    "    prepending each file's name as a header.\n",
    "    \"\"\"\n",
    "    with open(output_file, 'w') as outfile:\n",
    "        for filename in sorted(os.listdir(directory)):\n",
    "            if filename.endswith(\".txt\"):\n",
    "                filepath = os.path.join(directory, filename)\n",
    "                outfile.write(f\"--- BEGIN: {filename} ---\\n\")\n",
    "                with open(filepath, 'r') as infile:\n",
    "                    outfile.write(infile.read())\n",
    "                    outfile.write(\"\\n--- END: {filename} ---\\n\\n\")\n",
    "    print(f\"Combined text files into: {output_file}\")\n",
    "\n",
    "def combine_code_files(directory, output_file):\n",
    "    \"\"\"Combines all code files (.cc, .h, .cpp, .c, .slurm, .sh) in a directory\n",
    "    into a single file.\n",
    "    \"\"\"\n",
    "\n",
    "    code_extensions = (\".cc\", \".h\", \".cpp\", \".c\", \".slurm\", \".sh\")\n",
    "    with open(output_file, 'w') as outfile:\n",
    "        for filename in sorted(os.listdir(directory)):\n",
    "            if filename.endswith(code_extensions):\n",
    "                filepath = os.path.join(directory, filename)\n",
    "                outfile.write(f\"--- BEGIN: {filename} ---\\n\")\n",
    "                with open(filepath, 'r') as infile:\n",
    "                    outfile.write(infile.read())\n",
    "                    outfile.write(\"\\n--- END: {filename} ---\\n\\n\")\n",
    "    print(f\"Combined code files into: {output_file}\")\n",
    "\n",
    "if __name__ == \"__main__\":\n",
    "    directory = \".\"  # Current directory\n",
    "    combine_text_files(directory, \"combined_text_files.txt\")\n",
    "    combine_code_files(directory, \"combined_code_files.txt\")"
   ]
  }
 ],
 "metadata": {
  "kernelspec": {
   "display_name": "myenv",
   "language": "python",
   "name": "python3"
  },
  "language_info": {
   "codemirror_mode": {
    "name": "ipython",
    "version": 3
   },
   "file_extension": ".py",
   "mimetype": "text/x-python",
   "name": "python",
   "nbconvert_exporter": "python",
   "pygments_lexer": "ipython3",
   "version": "3.11.11"
  }
 },
 "nbformat": 4,
 "nbformat_minor": 2
}
